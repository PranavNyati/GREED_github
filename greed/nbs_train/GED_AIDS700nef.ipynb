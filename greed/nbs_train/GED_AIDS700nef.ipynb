{
 "cells": [
  {
   "cell_type": "code",
   "execution_count": 1,
   "id": "altered-conference",
   "metadata": {},
   "outputs": [],
   "source": [
    "CUDA_INDEX = 0\n",
    "NAME = 'GED_AIDS700nef'\n",
    "CLASSES = 29"
   ]
  },
  {
   "cell_type": "code",
   "execution_count": 2,
   "id": "bigger-invention",
   "metadata": {},
   "outputs": [],
   "source": [
    "import sys\n",
    "sys.path.insert(0, '..')\n",
    "sys.path.insert(0, '../..')\n",
    "sys.path.insert(0, '../../pyged/lib')"
   ]
  },
  {
   "cell_type": "code",
   "execution_count": 3,
   "id": "secure-institute",
   "metadata": {},
   "outputs": [
    {
     "name": "stderr",
     "output_type": "stream",
     "text": [
      "/home/nyati_pranav26/Pranav/gnn-x-experiments/.venv/lib/python3.9/site-packages/tqdm/auto.py:21: TqdmWarning: IProgress not found. Please update jupyter and ipywidgets. See https://ipywidgets.readthedocs.io/en/stable/user_install.html\n",
      "  from .autonotebook import tqdm as notebook_tqdm\n"
     ]
    },
    {
     "data": {
      "text/plain": [
       "<module 'neuro.viz' from '/home/nyati_pranav26/Pranav/gnn-x-experiments/GREED/greed/nbs_train/../neuro/viz.py'>"
      ]
     },
     "execution_count": 3,
     "metadata": {},
     "output_type": "execute_result"
    }
   ],
   "source": [
    "import os\n",
    "import pickle\n",
    "import random\n",
    "import time\n",
    "\n",
    "import IPython as ipy\n",
    "import matplotlib.pyplot as plt\n",
    "import numpy as np\n",
    "import torch\n",
    "torch.cuda.set_device(CUDA_INDEX)\n",
    "torch.backends.cudnn.benchmark = True\n",
    "import torch.optim\n",
    "import torch_geometric as tg\n",
    "import torch_geometric.data\n",
    "from tqdm.auto import tqdm\n",
    "\n",
    "from neuro import config, datasets, metrics, models, train, utils, viz\n",
    "import pyged\n",
    "\n",
    "from importlib import reload\n",
    "reload(config)\n",
    "reload(datasets)\n",
    "reload(metrics)\n",
    "reload(models)\n",
    "reload(pyged)\n",
    "reload(train)\n",
    "reload(utils)\n",
    "reload(viz)"
   ]
  },
  {
   "cell_type": "code",
   "execution_count": 6,
   "id": "liberal-artwork",
   "metadata": {},
   "outputs": [
    {
     "ename": "RuntimeError",
     "evalue": "The 'data' object was created by an older version of PyG. If this error occurred while loading an already existing dataset, remove the 'processed/' directory in the dataset's root folder and try again.",
     "output_type": "error",
     "traceback": [
      "\u001b[0;31m---------------------------------------------------------------------------\u001b[0m",
      "\u001b[0;31mRuntimeError\u001b[0m                              Traceback (most recent call last)",
      "Cell \u001b[0;32mIn[6], line 17\u001b[0m\n\u001b[1;32m     15\u001b[0m     \u001b[38;5;28mprint\u001b[39m(\u001b[38;5;124mf\u001b[39m\u001b[38;5;124m\"\u001b[39m\u001b[38;5;124mQuery \u001b[39m\u001b[38;5;132;01m{\u001b[39;00mi\u001b[38;5;132;01m}\u001b[39;00m\u001b[38;5;124m: \u001b[39m\u001b[38;5;124m\"\u001b[39m, file\u001b[38;5;241m=\u001b[39mf)\n\u001b[1;32m     16\u001b[0m     \u001b[38;5;66;03m# print(f\"{queries[i]}\", file=f)\u001b[39;00m\n\u001b[0;32m---> 17\u001b[0m     \u001b[38;5;28mprint\u001b[39m(\u001b[38;5;124m\"\u001b[39m\u001b[38;5;124mNo of nodes: \u001b[39m\u001b[38;5;132;01m{0}\u001b[39;00m\u001b[38;5;124m, No of edges: \u001b[39m\u001b[38;5;132;01m{1}\u001b[39;00m\u001b[38;5;124m\"\u001b[39m\u001b[38;5;241m.\u001b[39mformat(\u001b[43mqueries\u001b[49m\u001b[43m[\u001b[49m\u001b[43mi\u001b[49m\u001b[43m]\u001b[49m\u001b[38;5;241;43m.\u001b[39;49m\u001b[43mnum_nodes\u001b[49m, queries[i]\u001b[38;5;241m.\u001b[39mnum_edges), file\u001b[38;5;241m=\u001b[39mf)\n\u001b[1;32m     18\u001b[0m     \u001b[38;5;66;03m# print(f\"Target {i}: \", file=f)\u001b[39;00m\n\u001b[1;32m     19\u001b[0m     \u001b[38;5;66;03m# print(f\"{targets[i].x}, {targets[i].y}\", file=f)\u001b[39;00m\n\u001b[1;32m     20\u001b[0m     \u001b[38;5;66;03m# print(\"No of nodes: {0}, No of edges: {1}\".format(targets[i].num_nodes, targets[i].num_edges), file=f)\u001b[39;00m\n\u001b[1;32m     23\u001b[0m val_set, val_meta \u001b[38;5;241m=\u001b[39m torch\u001b[38;5;241m.\u001b[39mload(\u001b[38;5;124mf\u001b[39m\u001b[38;5;124m'\u001b[39m\u001b[38;5;124m../data/\u001b[39m\u001b[38;5;132;01m{\u001b[39;00mNAME\u001b[38;5;132;01m}\u001b[39;00m\u001b[38;5;124m/val.pt\u001b[39m\u001b[38;5;124m'\u001b[39m, map_location\u001b[38;5;241m=\u001b[39m\u001b[38;5;124m'\u001b[39m\u001b[38;5;124mcpu\u001b[39m\u001b[38;5;124m'\u001b[39m)\n",
      "File \u001b[0;32m~/Pranav/gnn-x-experiments/.venv/lib/python3.9/site-packages/torch_geometric/data/data.py:172\u001b[0m, in \u001b[0;36mBaseData.num_nodes\u001b[0;34m(self)\u001b[0m\n\u001b[1;32m    156\u001b[0m \u001b[38;5;250m\u001b[39m\u001b[38;5;124mr\u001b[39m\u001b[38;5;124;03m\"\"\"Returns the number of nodes in the graph.\u001b[39;00m\n\u001b[1;32m    157\u001b[0m \n\u001b[1;32m    158\u001b[0m \u001b[38;5;124;03m.. note::\u001b[39;00m\n\u001b[0;32m   (...)\u001b[0m\n\u001b[1;32m    169\u001b[0m \u001b[38;5;124;03m    You will be given a warning that requests you to do so.\u001b[39;00m\n\u001b[1;32m    170\u001b[0m \u001b[38;5;124;03m\"\"\"\u001b[39;00m\n\u001b[1;32m    171\u001b[0m \u001b[38;5;28;01mtry\u001b[39;00m:\n\u001b[0;32m--> 172\u001b[0m     \u001b[38;5;28;01mreturn\u001b[39;00m \u001b[38;5;28msum\u001b[39m([v\u001b[38;5;241m.\u001b[39mnum_nodes \u001b[38;5;28;01mfor\u001b[39;00m v \u001b[38;5;129;01min\u001b[39;00m \u001b[38;5;28;43mself\u001b[39;49m\u001b[38;5;241;43m.\u001b[39;49m\u001b[43mnode_stores\u001b[49m])\n\u001b[1;32m    173\u001b[0m \u001b[38;5;28;01mexcept\u001b[39;00m \u001b[38;5;167;01mTypeError\u001b[39;00m:\n\u001b[1;32m    174\u001b[0m     \u001b[38;5;28;01mreturn\u001b[39;00m \u001b[38;5;28;01mNone\u001b[39;00m\n",
      "File \u001b[0;32m~/Pranav/gnn-x-experiments/.venv/lib/python3.9/site-packages/torch_geometric/data/data.py:544\u001b[0m, in \u001b[0;36mData.node_stores\u001b[0;34m(self)\u001b[0m\n\u001b[1;32m    542\u001b[0m \u001b[38;5;129m@property\u001b[39m\n\u001b[1;32m    543\u001b[0m \u001b[38;5;28;01mdef\u001b[39;00m \u001b[38;5;21mnode_stores\u001b[39m(\u001b[38;5;28mself\u001b[39m) \u001b[38;5;241m-\u001b[39m\u001b[38;5;241m>\u001b[39m List[NodeStorage]:\n\u001b[0;32m--> 544\u001b[0m     \u001b[38;5;28;01mreturn\u001b[39;00m [\u001b[38;5;28;43mself\u001b[39;49m\u001b[38;5;241;43m.\u001b[39;49m\u001b[43m_store\u001b[49m]\n",
      "File \u001b[0;32m~/Pranav/gnn-x-experiments/.venv/lib/python3.9/site-packages/torch_geometric/data/data.py:477\u001b[0m, in \u001b[0;36mData.__getattr__\u001b[0;34m(self, key)\u001b[0m\n\u001b[1;32m    475\u001b[0m \u001b[38;5;28;01mdef\u001b[39;00m \u001b[38;5;21m__getattr__\u001b[39m(\u001b[38;5;28mself\u001b[39m, key: \u001b[38;5;28mstr\u001b[39m) \u001b[38;5;241m-\u001b[39m\u001b[38;5;241m>\u001b[39m Any:\n\u001b[1;32m    476\u001b[0m     \u001b[38;5;28;01mif\u001b[39;00m \u001b[38;5;124m'\u001b[39m\u001b[38;5;124m_store\u001b[39m\u001b[38;5;124m'\u001b[39m \u001b[38;5;129;01mnot\u001b[39;00m \u001b[38;5;129;01min\u001b[39;00m \u001b[38;5;28mself\u001b[39m\u001b[38;5;241m.\u001b[39m\u001b[38;5;18m__dict__\u001b[39m:\n\u001b[0;32m--> 477\u001b[0m         \u001b[38;5;28;01mraise\u001b[39;00m \u001b[38;5;167;01mRuntimeError\u001b[39;00m(\n\u001b[1;32m    478\u001b[0m             \u001b[38;5;124m\"\u001b[39m\u001b[38;5;124mThe \u001b[39m\u001b[38;5;124m'\u001b[39m\u001b[38;5;124mdata\u001b[39m\u001b[38;5;124m'\u001b[39m\u001b[38;5;124m object was created by an older version of PyG. \u001b[39m\u001b[38;5;124m\"\u001b[39m\n\u001b[1;32m    479\u001b[0m             \u001b[38;5;124m\"\u001b[39m\u001b[38;5;124mIf this error occurred while loading an already existing \u001b[39m\u001b[38;5;124m\"\u001b[39m\n\u001b[1;32m    480\u001b[0m             \u001b[38;5;124m\"\u001b[39m\u001b[38;5;124mdataset, remove the \u001b[39m\u001b[38;5;124m'\u001b[39m\u001b[38;5;124mprocessed/\u001b[39m\u001b[38;5;124m'\u001b[39m\u001b[38;5;124m directory in the dataset\u001b[39m\u001b[38;5;124m'\u001b[39m\u001b[38;5;124ms \u001b[39m\u001b[38;5;124m\"\u001b[39m\n\u001b[1;32m    481\u001b[0m             \u001b[38;5;124m\"\u001b[39m\u001b[38;5;124mroot folder and try again.\u001b[39m\u001b[38;5;124m\"\u001b[39m)\n\u001b[1;32m    482\u001b[0m     \u001b[38;5;28;01mreturn\u001b[39;00m \u001b[38;5;28mgetattr\u001b[39m(\u001b[38;5;28mself\u001b[39m\u001b[38;5;241m.\u001b[39m_store, key)\n",
      "\u001b[0;31mRuntimeError\u001b[0m: The 'data' object was created by an older version of PyG. If this error occurred while loading an already existing dataset, remove the 'processed/' directory in the dataset's root folder and try again."
     ]
    }
   ],
   "source": [
    "train_set, train_meta = torch.load(f'../data/{NAME}/train.pt', map_location='cpu')\n",
    "\n",
    "queries, targets, lb, ub = train_set\n",
    "\n",
    "f = open(f'./{NAME}_train_val_stats.txt', 'w')\n",
    "# f=None\n",
    "\n",
    "print(\"TRAIN DATA STATS\", file=f)\n",
    "print(\"No of queries: \", len(queries), file=f)\n",
    "print(\"No of targets: \", len(targets), file=f)\n",
    "print(\"No of lb: \", len(lb), file=f)\n",
    "print(\"No of ub: \", len(ub), file=f, flush=True)\n",
    "\n",
    "for i in range(len(queries)):\n",
    "    print(f\"Query {i}: \", file=f)\n",
    "    # print(f\"{queries[i]}\", file=f)\n",
    "    print(\"No of nodes: {0}, No of edges: {1}\".format(queries[i].num_nodes, queries[i].num_edges), file=f)\n",
    "    # print(f\"Target {i}: \", file=f)\n",
    "    # print(f\"{targets[i].x}, {targets[i].y}\", file=f)\n",
    "    # print(\"No of nodes: {0}, No of edges: {1}\".format(targets[i].num_nodes, targets[i].num_edges), file=f)\n",
    "    \n",
    "\n",
    "val_set, val_meta = torch.load(f'../data/{NAME}/val.pt', map_location='cpu')\n",
    "queries, targets, lb, ub = val_set\n",
    "\n",
    "queries, targets, lb, ub = val_set\n",
    "\n",
    "print(\"\\nVAL DATA STATS\", file=f)\n",
    "print(\"No of queries: \", len(queries), file=f)\n",
    "print(\"No of targets: \", len(targets), file=f)\n",
    "print(\"No of lb: \", len(lb), file=f)\n",
    "print(\"No of ub: \", len(ub), file=f)\n",
    "\n",
    "# print(\"\\n(QUERY, TARGET) STATS:\\n\", file=f)"
   ]
  },
  {
   "cell_type": "code",
   "execution_count": null,
   "id": "encouraging-valuation",
   "metadata": {},
   "outputs": [],
   "source": [
    "nodes = [h.num_nodes for h in train_set[1]]\n",
    "edges = [h.num_edges for h in train_set[1]]\n",
    "print(f'avg target nodes: {sum(nodes)/len(nodes):.3f}')\n",
    "print(f'avg target edges: {sum(edges)/len(edges):.3f}')"
   ]
  },
  {
   "cell_type": "code",
   "execution_count": null,
   "id": "diverse-semester",
   "metadata": {},
   "outputs": [],
   "source": [
    "viz.plot_inner_dataset(train_set, n_items=5, random=True)"
   ]
  },
  {
   "cell_type": "code",
   "execution_count": null,
   "id": "caroline-printing",
   "metadata": {},
   "outputs": [],
   "source": [
    "viz.plot_dataset_dist(train_set)"
   ]
  },
  {
   "cell_type": "code",
   "execution_count": null,
   "id": "protective-compact",
   "metadata": {},
   "outputs": [],
   "source": [
    "queries, targets, lb, ub = train_set\n",
    "sed = (lb+ub)/2\n",
    "plt.figure(figsize=(12,4))\n",
    "plt.subplot(121)\n",
    "viz.plot_corr(sed, ub-lb, show_std=True)\n",
    "plt.xlabel('GED')\n",
    "plt.ylabel('UB-LB')\n",
    "plt.title('Range vs GED')\n",
    "plt.subplot(122)\n",
    "viz.plot_corr(sed, (ub-lb)/sed, show_std=True)\n",
    "plt.xlabel('GED')\n",
    "plt.ylabel('(UB-LB)/GED')\n",
    "plt.title('Relative Range vs GED')\n",
    "plt.show()"
   ]
  },
  {
   "cell_type": "code",
   "execution_count": null,
   "id": "front-plate",
   "metadata": {},
   "outputs": [],
   "source": [
    "val_set, _ = torch.load(f'../data/{NAME}/val.pt', map_location='cpu')"
   ]
  },
  {
   "cell_type": "code",
   "execution_count": null,
   "id": "broken-insurance",
   "metadata": {},
   "outputs": [],
   "source": [
    "model = models.NormGEDModel(8, CLASSES, 64, 64).to(config.device)"
   ]
  },
  {
   "cell_type": "code",
   "execution_count": null,
   "id": "actual-internship",
   "metadata": {},
   "outputs": [],
   "source": [
    "loader = tg.data.DataLoader(list(zip(*train_set)), batch_size=200, shuffle=True)\n",
    "val_loader = tg.data.DataLoader(list(zip(*val_set)), batch_size=1000, shuffle=True)"
   ]
  },
  {
   "cell_type": "code",
   "execution_count": null,
   "id": "regulated-methodology",
   "metadata": {},
   "outputs": [],
   "source": [
    "dump_path = os.path.join(f'../runlogs/{NAME}', str(time.time()))\n",
    "os.mkdir(dump_path)\n",
    "train.train_full(model, loader, val_loader, lr=1e-3, weight_decay=1e-3, cycle_patience=5, step_size_up=2000, step_size_down=2000, dump_path=dump_path)"
   ]
  },
  {
   "cell_type": "code",
   "execution_count": null,
   "id": "wanted-chapel",
   "metadata": {},
   "outputs": [],
   "source": []
  }
 ],
 "metadata": {
  "kernelspec": {
   "display_name": "Python 3",
   "language": "python",
   "name": "python3"
  },
  "language_info": {
   "codemirror_mode": {
    "name": "ipython",
    "version": 3
   },
   "file_extension": ".py",
   "mimetype": "text/x-python",
   "name": "python",
   "nbconvert_exporter": "python",
   "pygments_lexer": "ipython3",
   "version": "3.9.7"
  }
 },
 "nbformat": 4,
 "nbformat_minor": 5
}
